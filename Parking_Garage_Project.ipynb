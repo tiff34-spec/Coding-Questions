{
  "cells": [
    {
      "cell_type": "markdown",
      "metadata": {
        "id": "view-in-github",
        "colab_type": "text"
      },
      "source": [
        "<a href=\"https://colab.research.google.com/github/tiff34-spec/Coding-Questions/blob/main/Parking_Garage_Project.ipynb\" target=\"_parent\"><img src=\"https://colab.research.google.com/assets/colab-badge.svg\" alt=\"Open In Colab\"/></a>"
      ]
    },
    {
      "cell_type": "markdown",
      "metadata": {
        "id": "6wLgD5cNAVUn"
      },
      "source": [
        "# Parking Garage Project\n",
        "\n",
        "Your assignment for today is to create a parking garage class to get more familiar with Object Oriented Programming(OOP).\n",
        "\n",
        "Your parking gargage class should have the following methods:\n",
        "- takeTicket\n",
        "   - This should decrease the amount of tickets available by 1\n",
        "   - This should decrease the amount of parkingSpaces available by 1\n",
        "- payForParking\n",
        "   - Display an input that waits for an amount from the user and store it in a variable\n",
        "   - If the payment variable is not empty then ->  display a message to the user that their ticket has been paid and they have 15mins to leave\n",
        "   - This should update the \"currentTicket\" dictionary key \"paid\" to True\n",
        "-leaveGarage\n",
        "   - If the ticket has been paid, display a message of \"Thank You, have a nice day\"\n",
        "   - If the ticket has not been paid, display an input prompt for payment\n",
        "      - Once paid, display message \"Thank you, have a nice day!\"\n",
        "   - Update parkingSpaces list to increase by 1\n",
        "   - Update tickets list to increase by 1\n",
        "\n",
        "You will need a few attributes as well:\n",
        "- tickets -> list\n",
        "- parkingSpaces -> list\n",
        "- currentTicket -> dictionary"
      ]
    },
    {
      "cell_type": "code",
      "execution_count": 1,
      "metadata": {
        "id": "_dLHA_daAVUy",
        "outputId": "19e88531-10be-4755-ef04-3d1ec11d1fef",
        "colab": {
          "base_uri": "https://localhost:8080/"
        }
      },
      "outputs": [
        {
          "output_type": "stream",
          "name": "stdout",
          "text": [
            "Ticket taken. Please proceed to park your vehicle.\n",
            "Please enter your payment amount: $15\n",
            "Payment received. You have 15 minutes to leave.\n",
            "Thank you, have a nice day!\n"
          ]
        }
      ],
      "source": [
        "class ParkingGarage:\n",
        "    def __init__(self, total_tickets=10):\n",
        "        self.tickets = list(range(1, total_tickets + 1))  # Ticket numbers\n",
        "        self.parkingSpaces = list(range(1, total_tickets + 1))  # One parking space per ticket\n",
        "        self.currentTicket = {\"paid\": False}\n",
        "\n",
        "    def takeTicket(self):\n",
        "        if self.tickets and self.parkingSpaces:\n",
        "            self.tickets.pop()\n",
        "            self.parkingSpaces.pop()\n",
        "            self.currentTicket[\"paid\"] = False\n",
        "            print(\"Ticket taken. Please proceed to park your vehicle.\")\n",
        "        else:\n",
        "            print(\"Sorry, the garage is full.\")\n",
        "\n",
        "    def payForParking(self):\n",
        "        if \"paid\" in self.currentTicket and not self.currentTicket[\"paid\"]:\n",
        "            payment = input(\"Please enter your payment amount: $\")\n",
        "            if payment.strip():\n",
        "                self.currentTicket[\"paid\"] = True\n",
        "                print(\"Payment received. You have 15 minutes to leave.\")\n",
        "            else:\n",
        "                print(\"No payment entered. Please try again.\")\n",
        "        else:\n",
        "            print(\"Your ticket has already been paid or you haven't taken a ticket yet.\")\n",
        "\n",
        "    def leaveGarage(self):\n",
        "        if \"paid\" not in self.currentTicket:\n",
        "            print(\"You need to take a ticket first.\")\n",
        "            return\n",
        "\n",
        "        if self.currentTicket[\"paid\"]:\n",
        "            print(\"Thank you, have a nice day!\")\n",
        "        else:\n",
        "            print(\"Payment required before you can leave.\")\n",
        "            self.payForParking()\n",
        "            if self.currentTicket[\"paid\"]:\n",
        "                print(\"Thank you, have a nice day!\")\n",
        "\n",
        "        # Reset garage status\n",
        "        self.tickets.append(len(self.tickets) + 1)\n",
        "        self.parkingSpaces.append(len(self.parkingSpaces) + 1)\n",
        "        self.currentTicket = {\"paid\": False}\n",
        "\n",
        "# Example usage:\n",
        "garage = ParkingGarage()\n",
        "\n",
        "garage.takeTicket()\n",
        "garage.payForParking()\n",
        "garage.leaveGarage()\n"
      ]
    }
  ],
  "metadata": {
    "kernelspec": {
      "display_name": "Python 3",
      "language": "python",
      "name": "python3"
    },
    "language_info": {
      "codemirror_mode": {
        "name": "ipython",
        "version": 3
      },
      "file_extension": ".py",
      "mimetype": "text/x-python",
      "name": "python",
      "nbconvert_exporter": "python",
      "pygments_lexer": "ipython3",
      "version": "3.7.3"
    },
    "colab": {
      "provenance": [],
      "include_colab_link": true
    }
  },
  "nbformat": 4,
  "nbformat_minor": 0
}