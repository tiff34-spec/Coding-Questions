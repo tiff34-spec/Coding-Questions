{
  "cells": [
    {
      "cell_type": "markdown",
      "metadata": {
        "id": "view-in-github",
        "colab_type": "text"
      },
      "source": [
        "<a href=\"https://colab.research.google.com/github/tiff34-spec/Coding-Questions/blob/main/Tuesday_Lesson_Inclass_Updated_Lecture_Updated2021_(1).ipynb\" target=\"_parent\"><img src=\"https://colab.research.google.com/assets/colab-badge.svg\" alt=\"Open In Colab\"/></a>"
      ]
    },
    {
      "cell_type": "markdown",
      "metadata": {
        "id": "h78gGLxsMGWx"
      },
      "source": [
        "# Functions, Scoping, Data Collections 1 & List Comprehensions"
      ]
    },
    {
      "cell_type": "markdown",
      "metadata": {
        "id": "sd6DX2k7MGW8"
      },
      "source": [
        "## Tasks Today:\n",
        "\n",
        "<i>Monday Additions (or, and ... if statements)</i>\n",
        "\n",
        "1) String Manipulation <br>\n",
        " &nbsp;&nbsp;&nbsp;&nbsp; a) strip() <br>\n",
        " &nbsp;&nbsp;&nbsp;&nbsp; b) title() <br>\n",
        "2) Working With Lists <br>\n",
        " &nbsp;&nbsp;&nbsp;&nbsp; a) min() <br>\n",
        " &nbsp;&nbsp;&nbsp;&nbsp; b) max() <br>\n",
        " &nbsp;&nbsp;&nbsp;&nbsp; c) sum() <br>\n",
        " &nbsp;&nbsp;&nbsp;&nbsp; d) sort() <br>\n",
        " &nbsp;&nbsp;&nbsp;&nbsp; e) Copying a List <br>\n",
        " &nbsp;&nbsp;&nbsp;&nbsp; f) 'in' keyword <br>\n",
        " &nbsp;&nbsp;&nbsp;&nbsp; g) 'not in' keyword <br>\n",
        " &nbsp;&nbsp;&nbsp;&nbsp; i) Checking an Empty List <br>\n",
        " &nbsp;&nbsp;&nbsp;&nbsp; j) Removing Instances with a Loop <br>\n",
        "3) List Comprehensions <br>\n",
        "4) Tuples <br>\n",
        " &nbsp;&nbsp;&nbsp;&nbsp; a) sorted() <br>\n",
        "5) Functions <br>\n",
        " &nbsp;&nbsp;&nbsp;&nbsp; a) User-Defined vs. Built-In Functions <br>\n",
        " &nbsp;&nbsp;&nbsp;&nbsp; b) Accepting Parameters <br>\n",
        " &nbsp;&nbsp;&nbsp;&nbsp; c) Default Parameters <br>\n",
        " &nbsp;&nbsp;&nbsp;&nbsp; d) Making an Argument Optional <br>\n",
        " &nbsp;&nbsp;&nbsp;&nbsp; e) Keyword Arguments <br>\n",
        " &nbsp;&nbsp;&nbsp;&nbsp; f) Returning Values <br>\n",
        " &nbsp;&nbsp;&nbsp;&nbsp; g) *args <br>\n",
        " &nbsp;&nbsp;&nbsp;&nbsp; h) Docstring <br>\n",
        " &nbsp;&nbsp;&nbsp;&nbsp; i) Using a User Function in a Loop <br>\n",
        "6) Scope"
      ]
    },
    {
      "cell_type": "markdown",
      "metadata": {
        "id": "vqyiZNIxMGW_"
      },
      "source": [
        "### String Manipulation"
      ]
    },
    {
      "cell_type": "markdown",
      "metadata": {
        "id": "IS5FOUPVMGXA"
      },
      "source": [
        "##### .lstrip()"
      ]
    },
    {
      "cell_type": "code",
      "execution_count": 2,
      "metadata": {
        "colab": {
          "base_uri": "https://localhost:8080/"
        },
        "id": "8FVXw7eRMGXB",
        "outputId": "f0e19535-5b55-419f-fa93-11b6cfb48d1b"
      },
      "outputs": [
        {
          "output_type": "stream",
          "name": "stdout",
          "text": [
            "John Smith\n"
          ]
        }
      ],
      "source": [
        "# string.lstrip()\n",
        "name = \"     hJohn Smith\"\n",
        "print(name.lstrip(\" \" \"h\"))\n"
      ]
    },
    {
      "cell_type": "markdown",
      "metadata": {
        "id": "cHHYeVbrMGXH"
      },
      "source": [
        "##### .rstrip()"
      ]
    },
    {
      "cell_type": "code",
      "execution_count": 3,
      "metadata": {
        "colab": {
          "base_uri": "https://localhost:8080/"
        },
        "id": "QdLBZVUzMGXI",
        "outputId": "eb917e5c-b2e6-41c6-bc4a-37d0e4845979"
      },
      "outputs": [
        {
          "output_type": "stream",
          "name": "stdout",
          "text": [
            "Bill Ross\n"
          ]
        }
      ],
      "source": [
        "# string.rstrip()\n",
        "name = \"Bill Ross     th\"\n",
        "print(name.rstrip(\" \" \"th\"))"
      ]
    },
    {
      "cell_type": "markdown",
      "metadata": {
        "id": "6NN3YRUTMGXK"
      },
      "source": [
        "##### .strip()"
      ]
    },
    {
      "cell_type": "code",
      "execution_count": 4,
      "metadata": {
        "colab": {
          "base_uri": "https://localhost:8080/"
        },
        "id": "79QOCiK2MGXM",
        "outputId": "7c93c254-d602-485c-fc9f-2a59911a2723"
      },
      "outputs": [
        {
          "output_type": "stream",
          "name": "stdout",
          "text": [
            "     John Smith     t\n"
          ]
        }
      ],
      "source": [
        "# string.strip()\n",
        "name = \"     John Smith     th\"\n",
        "print(name.strip(\"ah\"))"
      ]
    },
    {
      "cell_type": "markdown",
      "metadata": {
        "id": "rXofOKIWMGXN"
      },
      "source": [
        "##### .title()"
      ]
    },
    {
      "cell_type": "code",
      "execution_count": 5,
      "metadata": {
        "colab": {
          "base_uri": "https://localhost:8080/"
        },
        "id": "nKl0zu31MGXO",
        "outputId": "f48abde0-4d6c-439f-d6d1-2a09ee9a6437"
      },
      "outputs": [
        {
          "output_type": "stream",
          "name": "stdout",
          "text": [
            "Barak Obama\n"
          ]
        }
      ],
      "source": [
        "# string.title()\n",
        "president = \"barak obama\"\n",
        "\n",
        "print(president.title())"
      ]
    },
    {
      "cell_type": "markdown",
      "metadata": {
        "id": "o0xjmtboMGXP"
      },
      "source": [
        "### String Exercise <br>\n",
        "<p>Strip all white space and capitalize every name in the list given</p>"
      ]
    },
    {
      "cell_type": "code",
      "execution_count": 6,
      "metadata": {
        "colab": {
          "base_uri": "https://localhost:8080/"
        },
        "id": "vVQCpwKIMGXQ",
        "outputId": "a241753d-d4f6-4914-92d5-cfc917e44947"
      },
      "outputs": [
        {
          "output_type": "stream",
          "name": "stdout",
          "text": [
            "Connor\n",
            "Max\n",
            "Evan\n",
            "Jordan\n",
            "['Connor', 'Max', 'Evan', 'Jordan']\n"
          ]
        }
      ],
      "source": [
        "names = ['    coNNor', 'max', ' EVan ', 'JORDAN']\n",
        "# HINT: You will need to use a for loop for iteration\n",
        "\n",
        "# list_above = []\n",
        "# list_above.append(names)\n",
        "# for x in range(len(1000)):\n",
        "#     print(x)\n",
        "\n",
        "names_list = []\n",
        "for name in names:\n",
        "    print(name.strip().title())\n",
        "    names_list.append(name.strip().title())\n",
        "print(names_list)"
      ]
    },
    {
      "cell_type": "markdown",
      "metadata": {
        "id": "erePty43MGXR"
      },
      "source": [
        "### Working With Lists"
      ]
    },
    {
      "cell_type": "markdown",
      "metadata": {
        "id": "DyjTfti4MGXS"
      },
      "source": [
        "##### min()"
      ]
    },
    {
      "cell_type": "code",
      "execution_count": 7,
      "metadata": {
        "colab": {
          "base_uri": "https://localhost:8080/"
        },
        "id": "Wzb2DxwoMGXS",
        "outputId": "45a5294e-27eb-4c74-d71c-a706efc85862"
      },
      "outputs": [
        {
          "output_type": "stream",
          "name": "stdout",
          "text": [
            "2\n"
          ]
        }
      ],
      "source": [
        "# min(list)\n",
        "numbers = [4,2,97,54,16]\n",
        "\n",
        "print(min(numbers))"
      ]
    },
    {
      "cell_type": "markdown",
      "metadata": {
        "id": "8MPBxDLaMGXT"
      },
      "source": [
        "##### max()"
      ]
    },
    {
      "cell_type": "code",
      "execution_count": 8,
      "metadata": {
        "colab": {
          "base_uri": "https://localhost:8080/"
        },
        "id": "OFbIdz-yMGXU",
        "outputId": "d47c776d-59da-4778-f828-c010c71f1bd6"
      },
      "outputs": [
        {
          "output_type": "stream",
          "name": "stdout",
          "text": [
            "97\n"
          ]
        }
      ],
      "source": [
        "# max(list)\n",
        "\n",
        "print(max(numbers))"
      ]
    },
    {
      "cell_type": "markdown",
      "metadata": {
        "id": "0MThxBDfMGXV"
      },
      "source": [
        "##### sum()"
      ]
    },
    {
      "cell_type": "code",
      "execution_count": 9,
      "metadata": {
        "colab": {
          "base_uri": "https://localhost:8080/"
        },
        "id": "Qk96UTCiMGXV",
        "outputId": "8a36aea3-9886-4d40-f72f-82bba228737a"
      },
      "outputs": [
        {
          "output_type": "stream",
          "name": "stdout",
          "text": [
            "173\n"
          ]
        }
      ],
      "source": [
        "# sum(list)\n",
        "\n",
        "print(sum(numbers))"
      ]
    },
    {
      "cell_type": "markdown",
      "metadata": {
        "id": "GC98vmYiMGXX"
      },
      "source": [
        "##### sorted()"
      ]
    },
    {
      "cell_type": "code",
      "execution_count": 10,
      "metadata": {
        "colab": {
          "base_uri": "https://localhost:8080/"
        },
        "id": "BTxNz-7QMGXX",
        "outputId": "5100c150-1bb6-4fe4-cd41-3f4f23b94796"
      },
      "outputs": [
        {
          "output_type": "stream",
          "name": "stdout",
          "text": [
            "[4, 2, 97, 54, 16]\n",
            "[2, 4, 16, 54, 97]\n",
            "regular numbers: [4, 2, 97, 54, 16]\n",
            "sorted numbers: [2, 4, 16, 54, 97]\n"
          ]
        }
      ],
      "source": [
        "# sorted(list)\n",
        "print(numbers)\n",
        "\n",
        "sorted_numbers = sorted(numbers)\n",
        "print(sorted(numbers))\n",
        "print(f'regular numbers: {numbers}')\n",
        "\n",
        "print(f'sorted numbers: {sorted_numbers}')\n"
      ]
    },
    {
      "cell_type": "markdown",
      "metadata": {
        "id": "A0y5TpJBMGXY"
      },
      "source": [
        "##### .sort() <br>\n",
        "<p>Difference between sort and sorted, is that sorted doesn't change original list it returns a copy, while .sort changes the original list</p>"
      ]
    },
    {
      "cell_type": "code",
      "execution_count": 11,
      "metadata": {
        "colab": {
          "base_uri": "https://localhost:8080/"
        },
        "id": "AsLPI9sZMGXZ",
        "outputId": "00a46c7f-7b18-4706-c3f8-676753c2b78a"
      },
      "outputs": [
        {
          "output_type": "stream",
          "name": "stdout",
          "text": [
            "before sort: [4, 2, 97, 54, 16]\n",
            "None\n",
            "[2, 4, 16, 54, 97]\n"
          ]
        }
      ],
      "source": [
        "# list.sort()\n",
        "print(f'before sort: {numbers}')\n",
        "print(numbers.sort())\n",
        "print(numbers)\n",
        "\n",
        "# use sorted when you don't want to alter original list, use .sort() when you want to alter original list"
      ]
    },
    {
      "cell_type": "markdown",
      "metadata": {
        "id": "qtTAINE7MGXa"
      },
      "source": [
        "##### Copying a List"
      ]
    },
    {
      "cell_type": "code",
      "execution_count": 12,
      "metadata": {
        "colab": {
          "base_uri": "https://localhost:8080/"
        },
        "id": "FCRHg_V6MGXa",
        "outputId": "7682da96-0057-44f7-8fe7-b5ba6287095c"
      },
      "outputs": [
        {
          "output_type": "stream",
          "name": "stdout",
          "text": [
            "[2, 4, 16, 54, 97]\n",
            "[2, 4, 16, 54, 97]\n"
          ]
        }
      ],
      "source": [
        "# [:] copies a list, doesn't alter original'\n",
        "list_1 = numbers[:]\n",
        "print(list_1)\n",
        "print(numbers)\n"
      ]
    },
    {
      "cell_type": "markdown",
      "metadata": {
        "id": "1Unl9CiNMGXb"
      },
      "source": [
        "##### 'in' keyword"
      ]
    },
    {
      "cell_type": "code",
      "execution_count": 13,
      "metadata": {
        "colab": {
          "base_uri": "https://localhost:8080/"
        },
        "id": "usjaJuZqMGXb",
        "outputId": "31f250d6-f75f-4c9e-bab1-4696774e8b20"
      },
      "outputs": [
        {
          "output_type": "stream",
          "name": "stdout",
          "text": [
            "Coding Temple Instructor\n"
          ]
        }
      ],
      "source": [
        "l_teachers = [\"Joel\",\"Derek\",\"Conner\",\"Brian\",\"Joe\"]\n",
        "\n",
        "if 'Derek' in l_teachers:\n",
        "    print('Coding Temple Instructor')\n",
        "else:\n",
        "    print('Not an Instructor')"
      ]
    },
    {
      "cell_type": "code",
      "execution_count": 14,
      "metadata": {
        "colab": {
          "base_uri": "https://localhost:8080/"
        },
        "id": "3DB4DSRkMGXb",
        "outputId": "a31da0fe-bb70-43ce-88da-266ff101c9b4"
      },
      "outputs": [
        {
          "output_type": "stream",
          "name": "stdout",
          "text": [
            "Not Found\n",
            "Not Found\n",
            "Found\n",
            "Not Found\n",
            "Not Found\n"
          ]
        }
      ],
      "source": [
        "# Looking inside of the list for specific characters\n",
        "# for name in l_teachers:\n",
        "#     if name[0] == 'C':\n",
        "#         print('Teacher that starts with C')\n",
        "#     else:\n",
        "#         print(\"We ain't got it boss...\")\n",
        "\n",
        "for name in l_teachers:\n",
        "    if 'C' in name[0]:\n",
        "        print('Found')\n",
        "    else:\n",
        "        print('Not Found')"
      ]
    },
    {
      "cell_type": "markdown",
      "metadata": {
        "id": "WxE5OHV7MGXc"
      },
      "source": [
        "##### 'not in' keyword"
      ]
    },
    {
      "cell_type": "code",
      "execution_count": 15,
      "metadata": {
        "colab": {
          "base_uri": "https://localhost:8080/"
        },
        "id": "hdrZhVsrMGXc",
        "outputId": "a1b015b0-7170-4901-d26d-7885a0a6a813"
      },
      "outputs": [
        {
          "output_type": "stream",
          "name": "stdout",
          "text": [
            "Not a CT Instructor\n"
          ]
        }
      ],
      "source": [
        "if 'Zack' not in l_teachers:\n",
        "    print('Not a CT Instructor')"
      ]
    },
    {
      "cell_type": "markdown",
      "metadata": {
        "id": "D92RMD2DMGXc"
      },
      "source": [
        "##### Checking an Empty List"
      ]
    },
    {
      "cell_type": "code",
      "execution_count": 16,
      "metadata": {
        "colab": {
          "base_uri": "https://localhost:8080/"
        },
        "id": "GB7ICj_LMGXd",
        "outputId": "a3ceff94-d389-41b4-caca-35d73c08c2f9"
      },
      "outputs": [
        {
          "output_type": "stream",
          "name": "stdout",
          "text": [
            "Empty\n"
          ]
        }
      ],
      "source": [
        "# if l_1: or if l_1 = []\n",
        "l_2 = []\n",
        "\n",
        "if l_2 == []:\n",
        "    print('Empty')\n"
      ]
    },
    {
      "cell_type": "markdown",
      "metadata": {
        "id": "eY1sZYncMGXe"
      },
      "source": [
        "##### Removing Instances with a Loop"
      ]
    },
    {
      "cell_type": "code",
      "execution_count": 17,
      "metadata": {
        "colab": {
          "base_uri": "https://localhost:8080/"
        },
        "id": "5OsM9vveMGXe",
        "outputId": "69a4ff91-d47e-4fcb-877d-344b0f5bb82c"
      },
      "outputs": [
        {
          "output_type": "stream",
          "name": "stdout",
          "text": [
            "['Conner', 'Joel', 'Max', 'Rob']\n",
            "['Conner', 'Joel', 'Max', 'Rob']\n"
          ]
        }
      ],
      "source": [
        "# while, remove\n",
        "names = ['Conner',\"Joel\", \"Max\",\"Evan\",\"Rob\",\"Evan\"]\n",
        "\n",
        "while 'Evan' in names:\n",
        "    names.remove('Evan')\n",
        "print(names)\n",
        "\n",
        "for name in names:\n",
        "    if name == 'Evan':\n",
        "        names.remove('Evan')\n",
        "print(names)\n"
      ]
    },
    {
      "cell_type": "markdown",
      "metadata": {
        "id": "68OoltQ2MGXf"
      },
      "source": [
        "### List Exercise <br>\n",
        "<p>Remove all duplicates<br><b>Extra: Create a program that will remove any duplicates from a given list</b></p>"
      ]
    },
    {
      "cell_type": "code",
      "execution_count": 18,
      "metadata": {
        "colab": {
          "base_uri": "https://localhost:8080/"
        },
        "id": "30Sp1OSEMGXf",
        "outputId": "e4ad1355-c2d5-4751-99d1-61ee180ea4ba"
      },
      "outputs": [
        {
          "output_type": "stream",
          "name": "stdout",
          "text": [
            "new list after removing dups ['connor', 'bob', 'evan', 'max', 2, 3, 4, 'kevin']\n"
          ]
        }
      ],
      "source": [
        "names = ['connor', 'connor', 'bob', 'connor', 'evan', 'max', 'evan', 2, 2, 2, 3, 3, 4, 'bob', 'kevin']\n",
        "# Hint 1: You will need an append\n",
        "# Hint 2: Using an empty list will make life easier\n",
        "\n",
        "names_copy = []\n",
        "\n",
        "for i in names:\n",
        "    if i not in names_copy:\n",
        "        names_copy.append(i)\n",
        "print(f'new list after removing dups {names_copy}')\n",
        "\n",
        "\n"
      ]
    },
    {
      "cell_type": "markdown",
      "metadata": {
        "id": "nWL-JINJMGXg"
      },
      "source": [
        "### List Comprehensions <br>\n",
        "<p>Creating a quickly generated list to work with<br>*result*  = [*transform*    *iteration*         *filter*     ]</p>"
      ]
    },
    {
      "cell_type": "markdown",
      "metadata": {
        "id": "W4onfwH5MGXh"
      },
      "source": [
        "##### In a list comprehension we have a few pieces:\n",
        "1. The first is the counter/ variable - IN this the variable is x\n",
        "2. then we have a transform for the variable\n",
        "3. The finale part of a list comp is called the condition\n",
        "\n",
        "```python\n",
        "    [variable, transform, condition]\n",
        "```"
      ]
    },
    {
      "cell_type": "code",
      "execution_count": 19,
      "metadata": {
        "scrolled": true,
        "colab": {
          "base_uri": "https://localhost:8080/"
        },
        "id": "2OAMqXLqMGXr",
        "outputId": "1dcf24cf-e240-407e-c132-e46e12f7eac5"
      },
      "outputs": [
        {
          "output_type": "stream",
          "name": "stdout",
          "text": [
            "[0, 1, 2, 3, 4, 5, 6, 7, 8, 9, 10, 11, 12, 13, 14, 15, 16, 17, 18, 19, 20, 21, 22, 23, 24, 25, 26, 27, 28, 29, 30, 31, 32, 33, 34, 35, 36, 37, 38, 39, 40, 41, 42, 43, 44, 45, 46, 47, 48, 49, 50, 51, 52, 53, 54, 55, 56, 57, 58, 59, 60, 61, 62, 63, 64, 65, 66, 67, 68, 69, 70, 71, 72, 73, 74, 75, 76, 77, 78, 79, 80, 81, 82, 83, 84, 85, 86, 87, 88, 89, 90, 91, 92, 93, 94, 95, 96, 97, 98, 99]\n",
            "\n",
            "\n",
            "[0, 1, 2, 3, 4, 5, 6, 7, 8, 9, 10, 11, 12, 13, 14, 15, 16, 17, 18, 19, 20, 21, 22, 23, 24, 25, 26, 27, 28, 29, 30, 31, 32, 33, 34, 35, 36, 37, 38, 39, 40, 41, 42, 43, 44, 45, 46, 47, 48, 49, 50, 51, 52, 53, 54, 55, 56, 57, 58, 59, 60, 61, 62, 63, 64, 65, 66, 67, 68, 69, 70, 71, 72, 73, 74, 75, 76, 77, 78, 79, 80, 81, 82, 83, 84, 85, 86, 87, 88, 89, 90, 91, 92, 93, 94, 95, 96, 97, 98, 99]\n"
          ]
        }
      ],
      "source": [
        "# number comprehension\n",
        "\n",
        "# With a regular for loop\n",
        "\n",
        "nums = []\n",
        "\n",
        "for i in range(100):\n",
        "    nums.append(i)\n",
        "print(nums)\n",
        "\n",
        "\n",
        "# IN a list comprehension we have a few pieces:\n",
        "# The first is the counter/ variable - IN this the variable is x\n",
        "# Then we have a transform for the variable\n",
        "# The finale part of a list comp is called the condition\n",
        "\n",
        "#[variable, transform, condition]\n",
        "\n",
        "print('\\n')\n",
        "\n",
        "# List Comprehension syntax\n",
        "nums_comp = [i for i in range(100)]\n",
        "\n",
        "print(nums_comp)"
      ]
    },
    {
      "cell_type": "markdown",
      "metadata": {
        "id": "Bhr4JWt9MGXs"
      },
      "source": [
        "There are a few benefits to using List comprehensions. The most obvious would be that we now have shorter code to work with instead of using 3+ lines of code in the for loop variant.\n",
        "\n",
        "Another is an added benefit to memory usage. Since the list's memory is allocated first before adding elements to it, we don't have to resize the list once we add elements to it.\n",
        "\n",
        "Lastly, list comprehensions are considered the \"pythonic\" way to write code by the PEP8 standards (Python Style Guide)"
      ]
    },
    {
      "cell_type": "code",
      "execution_count": 20,
      "metadata": {
        "colab": {
          "base_uri": "https://localhost:8080/"
        },
        "id": "2bXrRd40MGXt",
        "outputId": "102b3046-1443-4aa5-a52c-69b32881fba1"
      },
      "outputs": [
        {
          "output_type": "stream",
          "name": "stdout",
          "text": [
            "[0, 1, 4, 9, 16, 25, 36, 49, 64, 81]\n",
            "\n",
            "\n",
            "[0, 1, 4, 9, 16, 25, 36, 49, 64, 81]\n"
          ]
        }
      ],
      "source": [
        "# square number comprehension\n",
        "squares = [x**2 for x in range(10)]\n",
        "\n",
        "print(squares)\n",
        "\n",
        "squares_reg = []\n",
        "\n",
        "for x in range(10):\n",
        "    squares_reg.append(x**2)\n",
        "\n",
        "print('\\n')\n",
        "print(squares_reg)\n"
      ]
    },
    {
      "cell_type": "code",
      "execution_count": 21,
      "metadata": {
        "colab": {
          "base_uri": "https://localhost:8080/"
        },
        "id": "tnHYbjEEMGXu",
        "outputId": "593a4cae-1d6f-459b-fd07-d2e6461787d2"
      },
      "outputs": [
        {
          "output_type": "stream",
          "name": "stdout",
          "text": [
            "['C', 'M', 'E', 'R']\n",
            "\n",
            "\n",
            "['C', 'M', 'E', 'R']\n"
          ]
        }
      ],
      "source": [
        "# string comprehension\n",
        "names = ['Conner', 'Max','Evan','Rob']\n",
        "\n",
        "first_char_comp = [name[0] for name in names]\n",
        "\n",
        "print(first_char_comp)\n",
        "\n",
        "# For Loop Version\n",
        "first_char = []\n",
        "\n",
        "for name in names:\n",
        "    first_char.append(name[0])\n",
        "print('\\n')\n",
        "print(first_char)\n"
      ]
    },
    {
      "cell_type": "code",
      "execution_count": 22,
      "metadata": {
        "colab": {
          "base_uri": "https://localhost:8080/"
        },
        "id": "uXeCDTpIMGXu",
        "outputId": "84d15237-f00d-4522-d33f-f85b0b7bf202"
      },
      "outputs": [
        {
          "output_type": "stream",
          "name": "stdout",
          "text": [
            "['Conner']\n",
            "\n",
            "\n",
            "['Conner']\n"
          ]
        }
      ],
      "source": [
        "# Using the 'if' statement ... if always comes after the for\n",
        "c_names = [first_name for first_name in names if first_name[0] == 'C']\n",
        "\n",
        "print(c_names)\n",
        "\n",
        "# for loop version\n",
        "c_names_reg = []\n",
        "\n",
        "for first_name in names:\n",
        "    if first_name[0] == 'C':\n",
        "        c_names_reg.append(first_name)\n",
        "\n",
        "print('\\n')\n",
        "print(c_names_reg)\n"
      ]
    },
    {
      "cell_type": "markdown",
      "metadata": {
        "id": "n_hDoa5qMGXv"
      },
      "source": [
        "### Tuples <br>\n",
        "<p><b>Defined as an immutable list</b></p><br>Seperated by commas using parenthesis"
      ]
    },
    {
      "cell_type": "code",
      "execution_count": 23,
      "metadata": {
        "colab": {
          "base_uri": "https://localhost:8080/"
        },
        "id": "SSwoN9VjMGXv",
        "outputId": "411faa4d-7ef7-4bb5-ceb8-63ff83c68b9d"
      },
      "outputs": [
        {
          "output_type": "stream",
          "name": "stdout",
          "text": [
            "<class 'tuple'>\n",
            "<class 'tuple'>\n",
            "1\n",
            "3\n",
            "1\n",
            "2\n",
            "3\n",
            "1\n",
            "2\n",
            "3\n"
          ]
        }
      ],
      "source": [
        "tup_1 = 1,2,3 # first way of creating a tuple\n",
        "tup_2 = (1,2,3) # Another/Second way of creating a tuple\n",
        "\n",
        "print(type(tup_1))\n",
        "print(type(tup_2))\n",
        "\n",
        "print(tup_1[0])\n",
        "\n",
        "print(len(tup_1))\n",
        "\n",
        "# Looping over a tuple\n",
        "for number in tup_1:\n",
        "    print(number)\n",
        "\n",
        "# Looping over a tuple with an index using range and len\n",
        "for number in range(len(tup_1)):\n",
        "    print(tup_1[number])"
      ]
    },
    {
      "cell_type": "markdown",
      "metadata": {
        "id": "s-yOQle2MGXw"
      },
      "source": [
        "##### sorted()"
      ]
    },
    {
      "cell_type": "code",
      "execution_count": 24,
      "metadata": {
        "colab": {
          "base_uri": "https://localhost:8080/"
        },
        "id": "W5vvQGjEMGXx",
        "outputId": "aa24d287-5211-4df6-e72f-d50a2fb14227"
      },
      "outputs": [
        {
          "output_type": "stream",
          "name": "stdout",
          "text": [
            "\n",
            "\n",
            "(1, 3, 5, 9, 20, 45, 3, 4, 66, 77, 33)\n",
            "[1, 3, 5, 9, 20, 45, 3, 4, 66, 77, 33]\n",
            "<class 'list'>\n",
            "[1, 3, 5, 9, 20, 45]\n"
          ]
        }
      ],
      "source": [
        "tup_3 = (20,5,1,3,9,45)\n",
        "\n",
        "sorted_tup = sorted(tup_3)\n",
        "\n",
        "random_list = [3,4,66,77,33]\n",
        "combine_list = sorted_tup + random_list\n",
        "\n",
        "new_tup = tuple(combine_list)\n",
        "\n",
        "print('\\n')\n",
        "print(new_tup)\n",
        "print(combine_list)\n",
        "print(type(sorted_tup))\n",
        "print(sorted_tup)"
      ]
    },
    {
      "cell_type": "markdown",
      "metadata": {
        "id": "iRFgxL_6MGXx"
      },
      "source": [
        "##### Adding values to a Tuple"
      ]
    },
    {
      "cell_type": "code",
      "execution_count": 25,
      "metadata": {
        "colab": {
          "base_uri": "https://localhost:8080/"
        },
        "id": "pyuG0lZyMGXy",
        "outputId": "b913b76f-0a22-493c-e854-ad49ea82882f"
      },
      "outputs": [
        {
          "output_type": "stream",
          "name": "stdout",
          "text": [
            "(1, 2, 3)\n",
            "(1, 2, 3, 5)\n"
          ]
        }
      ],
      "source": [
        "print(tup_1)\n",
        "\n",
        "tup_1 = tup_1 + (5,)\n",
        "\n",
        "print(tup_1)\n"
      ]
    },
    {
      "cell_type": "markdown",
      "metadata": {
        "id": "LpkP7ypLMGXz"
      },
      "source": [
        "## Functions"
      ]
    },
    {
      "cell_type": "markdown",
      "metadata": {
        "id": "qXScHAhFMGX0"
      },
      "source": [
        "##### User-Defined vs. Built-In Functions"
      ]
    },
    {
      "cell_type": "code",
      "execution_count": 26,
      "metadata": {
        "colab": {
          "base_uri": "https://localhost:8080/"
        },
        "id": "h2Kbhhp5MGX1",
        "outputId": "df32355d-e755-4f02-cef4-2debc2e8397c"
      },
      "outputs": [
        {
          "output_type": "stream",
          "name": "stdout",
          "text": [
            "<function sayHello at 0x7c0b50e76980>\n",
            "Hello World\n"
          ]
        }
      ],
      "source": [
        "# User Defined Function\n",
        "def sayHello():\n",
        "    return 'Hello World'\n",
        "# Showing the function call in memory\n",
        "print(sayHello)\n",
        "\n",
        "# Calling The function\n",
        "print(sayHello())\n"
      ]
    },
    {
      "cell_type": "markdown",
      "metadata": {
        "id": "9pUOkdOCMGX1"
      },
      "source": [
        "##### Accepting Parameters"
      ]
    },
    {
      "cell_type": "code",
      "execution_count": 27,
      "metadata": {
        "colab": {
          "base_uri": "https://localhost:8080/"
        },
        "id": "apDy1eTfMGX2",
        "outputId": "e0dc1711-855a-40f7-9cb6-e12cee2d0c55"
      },
      "outputs": [
        {
          "output_type": "stream",
          "name": "stdout",
          "text": [
            "Hello Joel, Carter\n",
            "Hello Carter, Joel\n",
            "Hello Joel, Carter\n"
          ]
        }
      ],
      "source": [
        "# Order matters\n",
        "# A variable can be of any type of object\n",
        "def printFullName(first_name,last_name):\n",
        "    return f'Hello {first_name}, {last_name}'\n",
        "\n",
        "print(printFullName('Joel', 'Carter'))\n",
        "print(printFullName('Carter', 'Joel'))\n",
        "\n",
        "print(printFullName(last_name=\"Carter\",first_name = \"Joel\"))"
      ]
    },
    {
      "cell_type": "markdown",
      "metadata": {
        "id": "T0XvP3PBMGX3"
      },
      "source": [
        "##### Default Parameters"
      ]
    },
    {
      "cell_type": "code",
      "execution_count": 28,
      "metadata": {
        "colab": {
          "base_uri": "https://localhost:8080/",
          "height": 36
        },
        "id": "nt524KwDMGX4",
        "outputId": "7ed99bb9-76ed-4935-a421-c42e992de001"
      },
      "outputs": [
        {
          "output_type": "execute_result",
          "data": {
            "text/plain": [
              "'The name is...James Bond'"
            ],
            "application/vnd.google.colaboratory.intrinsic+json": {
              "type": "string"
            }
          },
          "metadata": {},
          "execution_count": 28
        }
      ],
      "source": [
        "# default parameters need to be AFTER non-default parameters at all times\n",
        "\n",
        "def printAgentName(first_name, last_name = 'Bond'):\n",
        "    return f'The name is...{first_name} {last_name}'\n",
        "\n",
        "printAgentName('James')\n",
        "\n",
        "# DON'T DO THIS PLEASE\n",
        "# def printAgentAgain(last_name = 'Bond', first_name):\n",
        "#     return f'The name is...{first_name} {last_name}'\n",
        "\n",
        "# printAgentAgain(first_name ='James')\n"
      ]
    },
    {
      "cell_type": "markdown",
      "metadata": {
        "id": "AsX7ueSWMGX5"
      },
      "source": [
        "##### Making an Argument Optional"
      ]
    },
    {
      "cell_type": "code",
      "execution_count": 29,
      "metadata": {
        "colab": {
          "base_uri": "https://localhost:8080/",
          "height": 36
        },
        "id": "jQWOEkyhMGX6",
        "outputId": "695aa037-06d5-4812-82df-f51f6abd31bd"
      },
      "outputs": [
        {
          "output_type": "execute_result",
          "data": {
            "text/plain": [
              "'Hello Mr  Ed'"
            ],
            "application/vnd.google.colaboratory.intrinsic+json": {
              "type": "string"
            }
          },
          "metadata": {},
          "execution_count": 29
        }
      ],
      "source": [
        "def printHorseName(first, middle = \"\", last = \"Ed\"):\n",
        "    return f\"Hello {first} {middle} {last}\"\n",
        "\n",
        "printHorseName(\"Mr\")"
      ]
    },
    {
      "cell_type": "markdown",
      "metadata": {
        "id": "BrBW8SVUMGX6"
      },
      "source": [
        "##### Keyword Arguments"
      ]
    },
    {
      "cell_type": "code",
      "execution_count": 30,
      "metadata": {
        "colab": {
          "base_uri": "https://localhost:8080/",
          "height": 36
        },
        "id": "NuFzJlkEMGX7",
        "outputId": "937973b9-92e2-4af6-db5a-0b8e6a52e716"
      },
      "outputs": [
        {
          "output_type": "execute_result",
          "data": {
            "text/plain": [
              "'IronMan and superpower is flying'"
            ],
            "application/vnd.google.colaboratory.intrinsic+json": {
              "type": "string"
            }
          },
          "metadata": {},
          "execution_count": 30
        }
      ],
      "source": [
        "# last_name='Max', first_name='Smith' in the function call\n",
        "def printSuperHero(name, power = \"flying\"):\n",
        "    return f'{name} and superpower is {power}'\n",
        "\n",
        "printSuperHero('IronMan')\n",
        "# see above"
      ]
    },
    {
      "cell_type": "markdown",
      "metadata": {
        "id": "QJVS5PioMGX8"
      },
      "source": [
        "# Creating a start, stop, step function"
      ]
    },
    {
      "cell_type": "code",
      "execution_count": 31,
      "metadata": {
        "colab": {
          "base_uri": "https://localhost:8080/"
        },
        "id": "kcIE8va4MGX8",
        "outputId": "90a4666d-29b7-4a43-f738-01b4765de7a7"
      },
      "outputs": [
        {
          "output_type": "stream",
          "name": "stdout",
          "text": [
            "1\n",
            "2\n",
            "3\n",
            "4\n",
            "5\n",
            "6\n",
            "7\n",
            "8\n",
            "9\n",
            "10\n",
            "11\n",
            "12\n",
            "13\n",
            "14\n",
            "15\n",
            "16\n",
            "17\n",
            "18\n",
            "19\n"
          ]
        }
      ],
      "source": [
        "def my_range(stop,start=0,step = 1):\n",
        "    for i in range(start,stop,step):\n",
        "        print(i)\n",
        "my_range(20,1)"
      ]
    },
    {
      "cell_type": "markdown",
      "metadata": {
        "id": "1tQMgnB_MGX9"
      },
      "source": [
        "##### Returning Values"
      ]
    },
    {
      "cell_type": "code",
      "execution_count": 32,
      "metadata": {
        "colab": {
          "base_uri": "https://localhost:8080/"
        },
        "id": "qbVpCIOrMGX-",
        "outputId": "d15ba348-ef32-4694-aaa0-79987264fb20"
      },
      "outputs": [
        {
          "output_type": "execute_result",
          "data": {
            "text/plain": [
              "7"
            ]
          },
          "metadata": {},
          "execution_count": 32
        }
      ],
      "source": [
        "def addNums(num1,num2):\n",
        "    return num1 + num2\n",
        "\n",
        "addNums(5,2)"
      ]
    },
    {
      "cell_type": "markdown",
      "metadata": {
        "id": "ZQYdgOinMGX_"
      },
      "source": [
        "##### *args / **kwargs (AKA KeyWord Args)"
      ]
    },
    {
      "cell_type": "code",
      "execution_count": 33,
      "metadata": {
        "colab": {
          "base_uri": "https://localhost:8080/"
        },
        "id": "K-x5ycb0MGYA",
        "outputId": "5900ba1f-aa02-40c1-aee2-1a30b8f73ade"
      },
      "outputs": [
        {
          "output_type": "stream",
          "name": "stdout",
          "text": [
            "36\n",
            "('DragonZord', 'vanilla', 2, 3)\n",
            "DragonZord\n",
            "vanilla\n",
            "2\n",
            "3\n",
            "testing\n"
          ]
        }
      ],
      "source": [
        "# stands for arguments, takes ANY number of arguments as parameters\n",
        "# must be last if muliple parameters are present\n",
        "def printArgs(num1,*args, **kwargs):\n",
        "    print(num1)\n",
        "    print(args)\n",
        "\n",
        "    for arg in args:\n",
        "        print(arg)\n",
        "\n",
        "    for kwarg in kwargs:\n",
        "        print(kwarg)\n",
        "\n",
        "printArgs(36,'DragonZord','vanilla',2,3,testing=\"joel\")\n"
      ]
    },
    {
      "cell_type": "markdown",
      "metadata": {
        "id": "wlA8e2AzMGYA"
      },
      "source": [
        "##### Docstring"
      ]
    },
    {
      "cell_type": "code",
      "execution_count": 34,
      "metadata": {
        "colab": {
          "base_uri": "https://localhost:8080/"
        },
        "id": "i-fl5898MGYB",
        "outputId": "5a6258d1-5d6a-453c-a062-748c5fb393e9"
      },
      "outputs": [
        {
          "output_type": "stream",
          "name": "stdout",
          "text": [
            "George\n",
            "Ramon\n",
            "Peter\n",
            "Help on function printNames in module __main__:\n",
            "\n",
            "printNames(list_1)\n",
            "    printNames(list_1)\n",
            "    Function requires a list to be passed as a parameter\n",
            "    and will print the contents of the list. Expecting \n",
            "    a list of names(strings) to be passed.\n",
            "\n"
          ]
        }
      ],
      "source": [
        "def printNames(list_1):\n",
        "    \"\"\"\n",
        "        printNames(list_1)\n",
        "        Function requires a list to be passed as a parameter\n",
        "        and will print the contents of the list. Expecting\n",
        "        a list of names(strings) to be passed.\n",
        "    \"\"\"\n",
        "    for name in list_1:\n",
        "        print(name)\n",
        "\n",
        "printNames(['George','Ramon','Peter'])\n",
        "help(printNames)"
      ]
    },
    {
      "cell_type": "markdown",
      "metadata": {
        "id": "1KXlp36BMGYC"
      },
      "source": [
        "##### Using a User Function in a Loop"
      ]
    },
    {
      "cell_type": "code",
      "execution_count": null,
      "metadata": {
        "colab": {
          "base_uri": "https://localhost:8080/"
        },
        "id": "bKklV15nMGYC",
        "outputId": "53ae154f-3bd3-4302-9487-be351d9a17e5"
      },
      "outputs": [
        {
          "name": "stdout",
          "output_type": "stream",
          "text": [
            "Are you ready to quit??no\n",
            "What do you want to do?run cells\n",
            "run cells\n",
            "Ready Yet?yes\n"
          ]
        }
      ],
      "source": [
        "def printInput(answer):\n",
        "    print(answer)\n",
        "\n",
        "response = input('Are you ready to quit??')\n",
        "\n",
        "while True:\n",
        "    ask = input('What do you want to do?')\n",
        "\n",
        "    printInput(ask)\n",
        "\n",
        "    response = input('Ready Yet?')\n",
        "    if response.lower() == 'quit':\n",
        "        break\n"
      ]
    },
    {
      "cell_type": "markdown",
      "metadata": {
        "id": "MyIL113IMGYD"
      },
      "source": [
        "## Function Exercise <br>\n",
        "<p>Write a function that loops through a list of first_names and a list of last_names, combines the two and return a list of full_names</p>"
      ]
    },
    {
      "cell_type": "code",
      "execution_count": null,
      "metadata": {
        "id": "Gsjjmn-XMGYE"
      },
      "outputs": [],
      "source": [
        "def combine_names(first_names, last_names):\n",
        "    full_names = []\n",
        "    for first, last in zip(first_names, last_names):\n",
        "        full_names.append(f\"{first} {last}\")\n",
        "    return full_names\n",
        "\n",
        "# Example usage:\n",
        "first_names = [\"John\", \"Jane\", \"Alex\"]\n",
        "last_names = [\"Doe\", \"Smith\", \"Johnson\"]\n",
        "result = combine_names(first_names, last_names)\n",
        "print(result)  # Output: ['John Doe', 'Jane Smith', 'Alex Johnson']\n",
        "\n",
        "\n"
      ]
    },
    {
      "cell_type": "markdown",
      "metadata": {
        "id": "b2ZIizb0MGYF"
      },
      "source": [
        "## Scope <br>\n",
        "<p>Scope refers to the ability to access variables, different types of scope include:<br>a) Global<br>b) Function (local)<br>c) Class (local)</p>"
      ]
    },
    {
      "cell_type": "code",
      "execution_count": null,
      "metadata": {
        "id": "MgefjT4KMGYF"
      },
      "outputs": [],
      "source": [
        "# placement of variable declaration matters\n",
        "number = 3 # Global Variable\n",
        "\n",
        "def myFunc():\n",
        "    num_3 = 6 # Local Function Variable\n",
        "    return num_3\n",
        "\n",
        "print(number)\n",
        "return_num = myFunc()\n",
        "\n",
        "print(return_num)\n"
      ]
    },
    {
      "cell_type": "markdown",
      "metadata": {
        "id": "40G0C_UOMGYG"
      },
      "source": [
        "# Exercises"
      ]
    },
    {
      "cell_type": "markdown",
      "metadata": {
        "id": "b0iqg3LDMGYH"
      },
      "source": [
        "## Exercise 1 <br>\n",
        "<p>Given a list as a parameter,write a function that returns a list of numbers that are less than ten</b></i></p><br>\n",
        "<p> For example: Say your input parameter to the function is [1,11,14,5,8,9]...Your output should [1,5,8,9]</p>"
      ]
    },
    {
      "cell_type": "code",
      "execution_count": null,
      "metadata": {
        "id": "avi9idDDMGYH"
      },
      "outputs": [],
      "source": [
        "def less_than_ten(numbers):\n",
        "    return [num for num in numbers if num < 10]\n",
        "\n",
        "# Example usage:\n",
        "input_list = [1, 11, 14, 5, 8, 9]\n",
        "output = less_than_ten(input_list)\n",
        "print(output)  # Output: [1, 5, 8, 9]\n",
        "\n",
        "\n",
        "\n",
        "\n"
      ]
    },
    {
      "cell_type": "markdown",
      "metadata": {
        "id": "FiSetWJeMGYJ"
      },
      "source": [
        "## Exercise 2 <br>\n",
        "<p>Write a function that takes in two lists and returns the two lists merged together and sorted<br>\n",
        "<b><i>Hint: You can use the .sort() method</i></b></p>"
      ]
    },
    {
      "cell_type": "code",
      "execution_count": null,
      "metadata": {
        "id": "X2N3ACpWMGYJ"
      },
      "outputs": [],
      "source": [
        "def merge_and_sort(list1, list2):\n",
        "    merged_list = list1 + list2  # Combine the two lists\n",
        "    merged_list.sort()           # Sort the merged list in place\n",
        "    return merged_list\n",
        "\n",
        "# Example usage:\n",
        "list_a = [3, 1, 7]\n",
        "list_b = [2, 6, 4]\n",
        "result = merge_and_sort(list_a, list_b)\n",
        "print(result)  # Output: [1, 2, 3, 4, 6, 7]\n",
        "\n",
        "\n",
        "\n"
      ]
    }
  ],
  "metadata": {
    "kernelspec": {
      "display_name": "Python 3",
      "language": "python",
      "name": "python3"
    },
    "language_info": {
      "codemirror_mode": {
        "name": "ipython",
        "version": 3
      },
      "file_extension": ".py",
      "mimetype": "text/x-python",
      "name": "python",
      "nbconvert_exporter": "python",
      "pygments_lexer": "ipython3",
      "version": "3.7.6"
    },
    "colab": {
      "provenance": [],
      "include_colab_link": true
    }
  },
  "nbformat": 4,
  "nbformat_minor": 0
}